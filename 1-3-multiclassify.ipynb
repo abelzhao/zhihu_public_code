{
 "cells": [
  {
   "cell_type": "code",
   "execution_count": null,
   "metadata": {
    "collapsed": true
   },
   "outputs": [],
   "source": []
  },
  {
   "cell_type": "code",
   "execution_count": null,
   "metadata": {
    "collapsed": true
   },
   "outputs": [],
   "source": [
    "#  建模思路\n",
    "#  1. 一个商场一个场景\n",
    "#  2. 把一个场景看成多分类问题"
   ]
  },
  {
   "cell_type": "code",
   "execution_count": 1,
   "metadata": {
    "collapsed": true
   },
   "outputs": [],
   "source": [
    "import numpy as np\n",
    "import pandas as pd\n",
    "import matplotlib.pyplot as plt\n",
    "import gc"
   ]
  },
  {
   "cell_type": "code",
   "execution_count": 2,
   "metadata": {
    "collapsed": true
   },
   "outputs": [],
   "source": [
    "DATA_DIR = \"./data/\"\n",
    "MALL_ID = 'm_690'"
   ]
  },
  {
   "cell_type": "code",
   "execution_count": 3,
   "metadata": {
    "collapsed": false
   },
   "outputs": [
    {
     "name": "stdout",
     "output_type": "stream",
     "text": [
      "(137, 6)\n"
     ]
    },
    {
     "data": {
      "text/html": [
       "<div>\n",
       "<style>\n",
       "    .dataframe thead tr:only-child th {\n",
       "        text-align: right;\n",
       "    }\n",
       "\n",
       "    .dataframe thead th {\n",
       "        text-align: left;\n",
       "    }\n",
       "\n",
       "    .dataframe tbody tr th {\n",
       "        vertical-align: top;\n",
       "    }\n",
       "</style>\n",
       "<table border=\"1\" class=\"dataframe\">\n",
       "  <thead>\n",
       "    <tr style=\"text-align: right;\">\n",
       "      <th></th>\n",
       "      <th>shop_id</th>\n",
       "      <th>category_id</th>\n",
       "      <th>longitude</th>\n",
       "      <th>latitude</th>\n",
       "      <th>price</th>\n",
       "      <th>mall_id</th>\n",
       "    </tr>\n",
       "  </thead>\n",
       "  <tbody>\n",
       "    <tr>\n",
       "      <th>0</th>\n",
       "      <td>s_26</td>\n",
       "      <td>c_4</td>\n",
       "      <td>122.346736</td>\n",
       "      <td>31.833507</td>\n",
       "      <td>57</td>\n",
       "      <td>m_690</td>\n",
       "    </tr>\n",
       "    <tr>\n",
       "      <th>1</th>\n",
       "      <td>s_1587</td>\n",
       "      <td>c_1</td>\n",
       "      <td>122.347116</td>\n",
       "      <td>31.834759</td>\n",
       "      <td>60</td>\n",
       "      <td>m_690</td>\n",
       "    </tr>\n",
       "    <tr>\n",
       "      <th>2</th>\n",
       "      <td>s_1756</td>\n",
       "      <td>c_27</td>\n",
       "      <td>122.346919</td>\n",
       "      <td>31.833567</td>\n",
       "      <td>44</td>\n",
       "      <td>m_690</td>\n",
       "    </tr>\n",
       "    <tr>\n",
       "      <th>3</th>\n",
       "      <td>s_2258</td>\n",
       "      <td>c_38</td>\n",
       "      <td>122.346777</td>\n",
       "      <td>31.833647</td>\n",
       "      <td>50</td>\n",
       "      <td>m_690</td>\n",
       "    </tr>\n",
       "    <tr>\n",
       "      <th>4</th>\n",
       "      <td>s_2265</td>\n",
       "      <td>c_38</td>\n",
       "      <td>122.346113</td>\n",
       "      <td>31.834622</td>\n",
       "      <td>50</td>\n",
       "      <td>m_690</td>\n",
       "    </tr>\n",
       "  </tbody>\n",
       "</table>\n",
       "</div>"
      ],
      "text/plain": [
       "  shop_id category_id   longitude   latitude  price mall_id\n",
       "0    s_26         c_4  122.346736  31.833507     57   m_690\n",
       "1  s_1587         c_1  122.347116  31.834759     60   m_690\n",
       "2  s_1756        c_27  122.346919  31.833567     44   m_690\n",
       "3  s_2258        c_38  122.346777  31.833647     50   m_690\n",
       "4  s_2265        c_38  122.346113  31.834622     50   m_690"
      ]
     },
     "execution_count": 3,
     "metadata": {},
     "output_type": "execute_result"
    }
   ],
   "source": [
    "# shop_infos\n",
    "shop_infos = pd.read_csv(DATA_DIR + \"训练数据-ccf_first_round_shop_info.csv\")\n",
    "shop_infos_1 = shop_infos[shop_infos.mall_id==MALL_ID]\n",
    "shop_infos_1.index = range(shop_infos_1.shape[0])\n",
    "print shop_infos_1.shape\n",
    "shop_infos_1.head()"
   ]
  },
  {
   "cell_type": "code",
   "execution_count": 4,
   "metadata": {
    "collapsed": false
   },
   "outputs": [
    {
     "name": "stdout",
     "output_type": "stream",
     "text": [
      "(26816, 8)\n"
     ]
    },
    {
     "data": {
      "text/html": [
       "<div>\n",
       "<style>\n",
       "    .dataframe thead tr:only-child th {\n",
       "        text-align: right;\n",
       "    }\n",
       "\n",
       "    .dataframe thead th {\n",
       "        text-align: left;\n",
       "    }\n",
       "\n",
       "    .dataframe tbody tr th {\n",
       "        vertical-align: top;\n",
       "    }\n",
       "</style>\n",
       "<table border=\"1\" class=\"dataframe\">\n",
       "  <thead>\n",
       "    <tr style=\"text-align: right;\">\n",
       "      <th></th>\n",
       "      <th>row_id</th>\n",
       "      <th>user_id</th>\n",
       "      <th>mall_id</th>\n",
       "      <th>time_stamp</th>\n",
       "      <th>longitude</th>\n",
       "      <th>latitude</th>\n",
       "      <th>wifi_infos</th>\n",
       "      <th>shop_id</th>\n",
       "    </tr>\n",
       "  </thead>\n",
       "  <tbody>\n",
       "    <tr>\n",
       "      <th>4535</th>\n",
       "      <td>NaN</td>\n",
       "      <td>u_3604</td>\n",
       "      <td>m_690</td>\n",
       "      <td>2017-08-15 09:40</td>\n",
       "      <td>122.346922</td>\n",
       "      <td>31.834588</td>\n",
       "      <td>b_33798074|-90|false;b_30210843|-66|false;b_50...</td>\n",
       "      <td>s_149642</td>\n",
       "    </tr>\n",
       "    <tr>\n",
       "      <th>4536</th>\n",
       "      <td>NaN</td>\n",
       "      <td>u_9950</td>\n",
       "      <td>m_690</td>\n",
       "      <td>2017-08-06 13:50</td>\n",
       "      <td>122.346942</td>\n",
       "      <td>31.834576</td>\n",
       "      <td>b_25145248|-55|false;b_17791227|-78|false;b_31...</td>\n",
       "      <td>s_149642</td>\n",
       "    </tr>\n",
       "    <tr>\n",
       "      <th>4537</th>\n",
       "      <td>NaN</td>\n",
       "      <td>u_34343</td>\n",
       "      <td>m_690</td>\n",
       "      <td>2017-08-06 19:20</td>\n",
       "      <td>122.346926</td>\n",
       "      <td>31.834624</td>\n",
       "      <td>b_22076003|-64|false;b_30210843|-74|false;b_50...</td>\n",
       "      <td>s_149642</td>\n",
       "    </tr>\n",
       "    <tr>\n",
       "      <th>4538</th>\n",
       "      <td>NaN</td>\n",
       "      <td>u_49943</td>\n",
       "      <td>m_690</td>\n",
       "      <td>2017-08-25 21:40</td>\n",
       "      <td>122.346950</td>\n",
       "      <td>31.834530</td>\n",
       "      <td>b_825631|-76|false;b_825628|-78|false;b_276007...</td>\n",
       "      <td>s_149642</td>\n",
       "    </tr>\n",
       "    <tr>\n",
       "      <th>4539</th>\n",
       "      <td>NaN</td>\n",
       "      <td>u_65787</td>\n",
       "      <td>m_690</td>\n",
       "      <td>2017-08-22 08:00</td>\n",
       "      <td>122.346947</td>\n",
       "      <td>31.834565</td>\n",
       "      <td>b_18516724|-72|false;b_21073988|-57|false;b_17...</td>\n",
       "      <td>s_149642</td>\n",
       "    </tr>\n",
       "  </tbody>\n",
       "</table>\n",
       "</div>"
      ],
      "text/plain": [
       "      row_id  user_id mall_id        time_stamp   longitude   latitude  \\\n",
       "4535     NaN   u_3604   m_690  2017-08-15 09:40  122.346922  31.834588   \n",
       "4536     NaN   u_9950   m_690  2017-08-06 13:50  122.346942  31.834576   \n",
       "4537     NaN  u_34343   m_690  2017-08-06 19:20  122.346926  31.834624   \n",
       "4538     NaN  u_49943   m_690  2017-08-25 21:40  122.346950  31.834530   \n",
       "4539     NaN  u_65787   m_690  2017-08-22 08:00  122.346947  31.834565   \n",
       "\n",
       "                                             wifi_infos   shop_id  \n",
       "4535  b_33798074|-90|false;b_30210843|-66|false;b_50...  s_149642  \n",
       "4536  b_25145248|-55|false;b_17791227|-78|false;b_31...  s_149642  \n",
       "4537  b_22076003|-64|false;b_30210843|-74|false;b_50...  s_149642  \n",
       "4538  b_825631|-76|false;b_825628|-78|false;b_276007...  s_149642  \n",
       "4539  b_18516724|-72|false;b_21073988|-57|false;b_17...  s_149642  "
      ]
     },
     "execution_count": 4,
     "metadata": {},
     "output_type": "execute_result"
    }
   ],
   "source": [
    "# user_shop_behavior\n",
    "user_shop_behavior = pd.read_csv(DATA_DIR + \"训练数据-ccf_first_round_user_shop_behavior.csv\")\n",
    "datasets_learn = pd.merge(user_shop_behavior,  shop_infos[['shop_id', 'mall_id']], on=['shop_id'])\n",
    "datasets_learn_1 = datasets_learn[datasets_learn.mall_id==MALL_ID]\n",
    "datasets_learn_1.insert(0, 'row_id', np.nan)\n",
    "datasets_learn_1 = datasets_learn_1.loc[:, ['row_id', 'user_id', 'mall_id', 'time_stamp', 'longitude', 'latitude', 'wifi_infos', 'shop_id']]\n",
    "print datasets_learn_1.shape\n",
    "datasets_learn_1.head()"
   ]
  },
  {
   "cell_type": "code",
   "execution_count": 5,
   "metadata": {
    "collapsed": false
   },
   "outputs": [
    {
     "name": "stdout",
     "output_type": "stream",
     "text": [
      "(11808, 8)\n"
     ]
    },
    {
     "data": {
      "text/html": [
       "<div>\n",
       "<style>\n",
       "    .dataframe thead tr:only-child th {\n",
       "        text-align: right;\n",
       "    }\n",
       "\n",
       "    .dataframe thead th {\n",
       "        text-align: left;\n",
       "    }\n",
       "\n",
       "    .dataframe tbody tr th {\n",
       "        vertical-align: top;\n",
       "    }\n",
       "</style>\n",
       "<table border=\"1\" class=\"dataframe\">\n",
       "  <thead>\n",
       "    <tr style=\"text-align: right;\">\n",
       "      <th></th>\n",
       "      <th>row_id</th>\n",
       "      <th>user_id</th>\n",
       "      <th>mall_id</th>\n",
       "      <th>time_stamp</th>\n",
       "      <th>longitude</th>\n",
       "      <th>latitude</th>\n",
       "      <th>wifi_infos</th>\n",
       "      <th>shop_id</th>\n",
       "    </tr>\n",
       "  </thead>\n",
       "  <tbody>\n",
       "    <tr>\n",
       "      <th>237</th>\n",
       "      <td>118979</td>\n",
       "      <td>u_30176451</td>\n",
       "      <td>m_690</td>\n",
       "      <td>2017-09-07 11:30</td>\n",
       "      <td>122.346650</td>\n",
       "      <td>31.833528</td>\n",
       "      <td>b_39339645|-72|false;b_7446891|-51|false;b_233...</td>\n",
       "      <td>NaN</td>\n",
       "    </tr>\n",
       "    <tr>\n",
       "      <th>290</th>\n",
       "      <td>119032</td>\n",
       "      <td>u_30194619</td>\n",
       "      <td>m_690</td>\n",
       "      <td>2017-09-05 11:20</td>\n",
       "      <td>122.346477</td>\n",
       "      <td>31.834231</td>\n",
       "      <td>b_34360664|-61|false;b_34360668|-71|false;b_34...</td>\n",
       "      <td>NaN</td>\n",
       "    </tr>\n",
       "    <tr>\n",
       "      <th>326</th>\n",
       "      <td>119068</td>\n",
       "      <td>u_30205630</td>\n",
       "      <td>m_690</td>\n",
       "      <td>2017-09-07 17:00</td>\n",
       "      <td>122.346548</td>\n",
       "      <td>31.834173</td>\n",
       "      <td>b_34347400|-38|false;b_34360664|-59|false;b_34...</td>\n",
       "      <td>NaN</td>\n",
       "    </tr>\n",
       "    <tr>\n",
       "      <th>407</th>\n",
       "      <td>119149</td>\n",
       "      <td>u_30227745</td>\n",
       "      <td>m_690</td>\n",
       "      <td>2017-09-05 17:50</td>\n",
       "      <td>122.346467</td>\n",
       "      <td>31.834293</td>\n",
       "      <td>b_30227354|-53|false;b_33161184|-42|false;b_53...</td>\n",
       "      <td>NaN</td>\n",
       "    </tr>\n",
       "    <tr>\n",
       "      <th>413</th>\n",
       "      <td>119155</td>\n",
       "      <td>u_30229777</td>\n",
       "      <td>m_690</td>\n",
       "      <td>2017-09-03 11:30</td>\n",
       "      <td>122.346198</td>\n",
       "      <td>31.834007</td>\n",
       "      <td>b_7446881|-82|false;b_13587691|-63|false;b_343...</td>\n",
       "      <td>NaN</td>\n",
       "    </tr>\n",
       "  </tbody>\n",
       "</table>\n",
       "</div>"
      ],
      "text/plain": [
       "     row_id     user_id mall_id        time_stamp   longitude   latitude  \\\n",
       "237  118979  u_30176451   m_690  2017-09-07 11:30  122.346650  31.833528   \n",
       "290  119032  u_30194619   m_690  2017-09-05 11:20  122.346477  31.834231   \n",
       "326  119068  u_30205630   m_690  2017-09-07 17:00  122.346548  31.834173   \n",
       "407  119149  u_30227745   m_690  2017-09-05 17:50  122.346467  31.834293   \n",
       "413  119155  u_30229777   m_690  2017-09-03 11:30  122.346198  31.834007   \n",
       "\n",
       "                                            wifi_infos  shop_id  \n",
       "237  b_39339645|-72|false;b_7446891|-51|false;b_233...      NaN  \n",
       "290  b_34360664|-61|false;b_34360668|-71|false;b_34...      NaN  \n",
       "326  b_34347400|-38|false;b_34360664|-59|false;b_34...      NaN  \n",
       "407  b_30227354|-53|false;b_33161184|-42|false;b_53...      NaN  \n",
       "413  b_7446881|-82|false;b_13587691|-63|false;b_343...      NaN  "
      ]
     },
     "execution_count": 5,
     "metadata": {},
     "output_type": "execute_result"
    }
   ],
   "source": [
    "# evaluation public\n",
    "datasets_predict = pd.read_csv(DATA_DIR + \"AB榜测试集-evaluation_public.csv\")\n",
    "datasets_predict_1 = datasets_predict[datasets_predict.mall_id==MALL_ID].copy()\n",
    "datasets_predict_1.loc[:, 'shop_id'] = np.nan\n",
    "print datasets_predict_1.shape\n",
    "datasets_predict_1.head()"
   ]
  },
  {
   "cell_type": "code",
   "execution_count": null,
   "metadata": {
    "collapsed": true
   },
   "outputs": [],
   "source": []
  },
  {
   "cell_type": "code",
   "execution_count": null,
   "metadata": {
    "collapsed": true
   },
   "outputs": [],
   "source": []
  },
  {
   "cell_type": "code",
   "execution_count": null,
   "metadata": {
    "collapsed": true
   },
   "outputs": [],
   "source": []
  },
  {
   "cell_type": "code",
   "execution_count": null,
   "metadata": {
    "collapsed": true
   },
   "outputs": [],
   "source": [
    "## 学习部分"
   ]
  },
  {
   "cell_type": "code",
   "execution_count": 6,
   "metadata": {
    "collapsed": false
   },
   "outputs": [
    {
     "name": "stdout",
     "output_type": "stream",
     "text": [
      "(38624, 9)\n"
     ]
    },
    {
     "data": {
      "text/html": [
       "<div>\n",
       "<style>\n",
       "    .dataframe thead tr:only-child th {\n",
       "        text-align: right;\n",
       "    }\n",
       "\n",
       "    .dataframe thead th {\n",
       "        text-align: left;\n",
       "    }\n",
       "\n",
       "    .dataframe tbody tr th {\n",
       "        vertical-align: top;\n",
       "    }\n",
       "</style>\n",
       "<table border=\"1\" class=\"dataframe\">\n",
       "  <thead>\n",
       "    <tr style=\"text-align: right;\">\n",
       "      <th></th>\n",
       "      <th>sample_id</th>\n",
       "      <th>row_id</th>\n",
       "      <th>user_id</th>\n",
       "      <th>mall_id</th>\n",
       "      <th>time_stamp</th>\n",
       "      <th>longitude</th>\n",
       "      <th>latitude</th>\n",
       "      <th>wifi_infos</th>\n",
       "      <th>shop_id</th>\n",
       "    </tr>\n",
       "  </thead>\n",
       "  <tbody>\n",
       "    <tr>\n",
       "      <th>0</th>\n",
       "      <td>0</td>\n",
       "      <td>NaN</td>\n",
       "      <td>u_3604</td>\n",
       "      <td>m_690</td>\n",
       "      <td>2017-08-15 09:40</td>\n",
       "      <td>122.346922</td>\n",
       "      <td>31.834588</td>\n",
       "      <td>b_33798074|-90|false;b_30210843|-66|false;b_50...</td>\n",
       "      <td>s_149642</td>\n",
       "    </tr>\n",
       "    <tr>\n",
       "      <th>1</th>\n",
       "      <td>1</td>\n",
       "      <td>NaN</td>\n",
       "      <td>u_9950</td>\n",
       "      <td>m_690</td>\n",
       "      <td>2017-08-06 13:50</td>\n",
       "      <td>122.346942</td>\n",
       "      <td>31.834576</td>\n",
       "      <td>b_25145248|-55|false;b_17791227|-78|false;b_31...</td>\n",
       "      <td>s_149642</td>\n",
       "    </tr>\n",
       "    <tr>\n",
       "      <th>2</th>\n",
       "      <td>2</td>\n",
       "      <td>NaN</td>\n",
       "      <td>u_34343</td>\n",
       "      <td>m_690</td>\n",
       "      <td>2017-08-06 19:20</td>\n",
       "      <td>122.346926</td>\n",
       "      <td>31.834624</td>\n",
       "      <td>b_22076003|-64|false;b_30210843|-74|false;b_50...</td>\n",
       "      <td>s_149642</td>\n",
       "    </tr>\n",
       "    <tr>\n",
       "      <th>3</th>\n",
       "      <td>3</td>\n",
       "      <td>NaN</td>\n",
       "      <td>u_49943</td>\n",
       "      <td>m_690</td>\n",
       "      <td>2017-08-25 21:40</td>\n",
       "      <td>122.346950</td>\n",
       "      <td>31.834530</td>\n",
       "      <td>b_825631|-76|false;b_825628|-78|false;b_276007...</td>\n",
       "      <td>s_149642</td>\n",
       "    </tr>\n",
       "    <tr>\n",
       "      <th>4</th>\n",
       "      <td>4</td>\n",
       "      <td>NaN</td>\n",
       "      <td>u_65787</td>\n",
       "      <td>m_690</td>\n",
       "      <td>2017-08-22 08:00</td>\n",
       "      <td>122.346947</td>\n",
       "      <td>31.834565</td>\n",
       "      <td>b_18516724|-72|false;b_21073988|-57|false;b_17...</td>\n",
       "      <td>s_149642</td>\n",
       "    </tr>\n",
       "  </tbody>\n",
       "</table>\n",
       "</div>"
      ],
      "text/plain": [
       "   sample_id  row_id  user_id mall_id        time_stamp   longitude  \\\n",
       "0          0     NaN   u_3604   m_690  2017-08-15 09:40  122.346922   \n",
       "1          1     NaN   u_9950   m_690  2017-08-06 13:50  122.346942   \n",
       "2          2     NaN  u_34343   m_690  2017-08-06 19:20  122.346926   \n",
       "3          3     NaN  u_49943   m_690  2017-08-25 21:40  122.346950   \n",
       "4          4     NaN  u_65787   m_690  2017-08-22 08:00  122.346947   \n",
       "\n",
       "    latitude                                         wifi_infos   shop_id  \n",
       "0  31.834588  b_33798074|-90|false;b_30210843|-66|false;b_50...  s_149642  \n",
       "1  31.834576  b_25145248|-55|false;b_17791227|-78|false;b_31...  s_149642  \n",
       "2  31.834624  b_22076003|-64|false;b_30210843|-74|false;b_50...  s_149642  \n",
       "3  31.834530  b_825631|-76|false;b_825628|-78|false;b_276007...  s_149642  \n",
       "4  31.834565  b_18516724|-72|false;b_21073988|-57|false;b_17...  s_149642  "
      ]
     },
     "execution_count": 6,
     "metadata": {},
     "output_type": "execute_result"
    }
   ],
   "source": [
    "# datasets_learn_1和datasets_predict_1合并, 生成一个场景的数据集datasets_1\n",
    "datasets_1 = pd.concat([datasets_learn_1, datasets_predict_1],  axis=0, ignore_index=True)\n",
    "datasets_1.insert(0, 'sample_id', range(datasets_1.shape[0]))\n",
    "print datasets_1.shape\n",
    "datasets_1.head()"
   ]
  },
  {
   "cell_type": "code",
   "execution_count": 7,
   "metadata": {
    "collapsed": false
   },
   "outputs": [
    {
     "data": {
      "text/plain": [
       "218"
      ]
     },
     "execution_count": 7,
     "metadata": {},
     "output_type": "execute_result"
    }
   ],
   "source": [
    "gc.collect()"
   ]
  },
  {
   "cell_type": "code",
   "execution_count": 10,
   "metadata": {
    "collapsed": false
   },
   "outputs": [],
   "source": [
    "## 构造训练特征\n",
    "from sklearn.preprocessing import MinMaxScaler"
   ]
  },
  {
   "cell_type": "code",
   "execution_count": null,
   "metadata": {
    "collapsed": false
   },
   "outputs": [],
   "source": [
    "# 扩展经纬度特征（可选）\n",
    "for k in range(shop_infos_1.shape[0]):\n",
    "    long_diff_name = 'lg_diff_' + shop_infos_1.loc[k, 'shop_id']\n",
    "    long_diff = 1000 * (datasets_1.loc[:, 'longitude']  - shop_infos_1.loc[k, 'longitude'])\n",
    "    scaler1 = MinMaxScaler()\n",
    "    datasets_1.loc[:, long_diff_name] = scaler1.fit_transform(long_diff.values.reshape(-1,1))\n",
    "    lati_diff_name = 'lt_diff_' + shop_infos_1.loc[k, 'shop_id']\n",
    "    lati_diff = 1000 * (datasets_1.loc[:, 'latitude']  - shop_infos_1.loc[k, 'latitude'])\n",
    "    scaler2 = MinMaxScaler()\n",
    "    datasets_1.loc[:, lati_diff_name] = scaler2.fit_transform(lati_diff.values.reshape(-1,1))\n",
    "\n",
    "datasets_1.loc[:, 'lg_org'] = MinMaxScaler().fit_transform(datasets_1.loc[:, 'longitude'].values.reshape(-1,1))\n",
    "datasets_1.loc[:, 'lt_org']  = MinMaxScaler().fit_transform(datasets_1.loc[:, 'latitude'].values.reshape(-1,1))\n",
    "\n",
    "print datasets_1.shape\n",
    "datasets_1.head()"
   ]
  },
  {
   "cell_type": "code",
   "execution_count": null,
   "metadata": {
    "collapsed": false
   },
   "outputs": [],
   "source": []
  },
  {
   "cell_type": "code",
   "execution_count": 8,
   "metadata": {
    "collapsed": false
   },
   "outputs": [
    {
     "name": "stdout",
     "output_type": "stream",
     "text": [
      "(38624, 748)\n"
     ]
    },
    {
     "data": {
      "text/html": [
       "<div>\n",
       "<style>\n",
       "    .dataframe thead tr:only-child th {\n",
       "        text-align: right;\n",
       "    }\n",
       "\n",
       "    .dataframe thead th {\n",
       "        text-align: left;\n",
       "    }\n",
       "\n",
       "    .dataframe tbody tr th {\n",
       "        vertical-align: top;\n",
       "    }\n",
       "</style>\n",
       "<table border=\"1\" class=\"dataframe\">\n",
       "  <thead>\n",
       "    <tr style=\"text-align: right;\">\n",
       "      <th></th>\n",
       "      <th>sample_id</th>\n",
       "      <th>row_id</th>\n",
       "      <th>user_id</th>\n",
       "      <th>mall_id</th>\n",
       "      <th>time_stamp</th>\n",
       "      <th>longitude</th>\n",
       "      <th>latitude</th>\n",
       "      <th>wifi_infos</th>\n",
       "      <th>shop_id</th>\n",
       "      <th>time_str_0-0-10</th>\n",
       "      <th>...</th>\n",
       "      <th>time_str_6-8-20</th>\n",
       "      <th>time_str_6-8-30</th>\n",
       "      <th>time_str_6-8-40</th>\n",
       "      <th>time_str_6-8-50</th>\n",
       "      <th>time_str_6-9-0</th>\n",
       "      <th>time_str_6-9-10</th>\n",
       "      <th>time_str_6-9-20</th>\n",
       "      <th>time_str_6-9-30</th>\n",
       "      <th>time_str_6-9-40</th>\n",
       "      <th>time_str_6-9-50</th>\n",
       "    </tr>\n",
       "  </thead>\n",
       "  <tbody>\n",
       "    <tr>\n",
       "      <th>0</th>\n",
       "      <td>0</td>\n",
       "      <td>NaN</td>\n",
       "      <td>u_3604</td>\n",
       "      <td>m_690</td>\n",
       "      <td>2017-08-15 09:40</td>\n",
       "      <td>122.346922</td>\n",
       "      <td>31.834588</td>\n",
       "      <td>b_33798074|-90|false;b_30210843|-66|false;b_50...</td>\n",
       "      <td>s_149642</td>\n",
       "      <td>0</td>\n",
       "      <td>...</td>\n",
       "      <td>0</td>\n",
       "      <td>0</td>\n",
       "      <td>0</td>\n",
       "      <td>0</td>\n",
       "      <td>0</td>\n",
       "      <td>0</td>\n",
       "      <td>0</td>\n",
       "      <td>0</td>\n",
       "      <td>0</td>\n",
       "      <td>0</td>\n",
       "    </tr>\n",
       "    <tr>\n",
       "      <th>1</th>\n",
       "      <td>1</td>\n",
       "      <td>NaN</td>\n",
       "      <td>u_9950</td>\n",
       "      <td>m_690</td>\n",
       "      <td>2017-08-06 13:50</td>\n",
       "      <td>122.346942</td>\n",
       "      <td>31.834576</td>\n",
       "      <td>b_25145248|-55|false;b_17791227|-78|false;b_31...</td>\n",
       "      <td>s_149642</td>\n",
       "      <td>0</td>\n",
       "      <td>...</td>\n",
       "      <td>0</td>\n",
       "      <td>0</td>\n",
       "      <td>0</td>\n",
       "      <td>0</td>\n",
       "      <td>0</td>\n",
       "      <td>0</td>\n",
       "      <td>0</td>\n",
       "      <td>0</td>\n",
       "      <td>0</td>\n",
       "      <td>0</td>\n",
       "    </tr>\n",
       "    <tr>\n",
       "      <th>2</th>\n",
       "      <td>2</td>\n",
       "      <td>NaN</td>\n",
       "      <td>u_34343</td>\n",
       "      <td>m_690</td>\n",
       "      <td>2017-08-06 19:20</td>\n",
       "      <td>122.346926</td>\n",
       "      <td>31.834624</td>\n",
       "      <td>b_22076003|-64|false;b_30210843|-74|false;b_50...</td>\n",
       "      <td>s_149642</td>\n",
       "      <td>0</td>\n",
       "      <td>...</td>\n",
       "      <td>0</td>\n",
       "      <td>0</td>\n",
       "      <td>0</td>\n",
       "      <td>0</td>\n",
       "      <td>0</td>\n",
       "      <td>0</td>\n",
       "      <td>0</td>\n",
       "      <td>0</td>\n",
       "      <td>0</td>\n",
       "      <td>0</td>\n",
       "    </tr>\n",
       "    <tr>\n",
       "      <th>3</th>\n",
       "      <td>3</td>\n",
       "      <td>NaN</td>\n",
       "      <td>u_49943</td>\n",
       "      <td>m_690</td>\n",
       "      <td>2017-08-25 21:40</td>\n",
       "      <td>122.346950</td>\n",
       "      <td>31.834530</td>\n",
       "      <td>b_825631|-76|false;b_825628|-78|false;b_276007...</td>\n",
       "      <td>s_149642</td>\n",
       "      <td>0</td>\n",
       "      <td>...</td>\n",
       "      <td>0</td>\n",
       "      <td>0</td>\n",
       "      <td>0</td>\n",
       "      <td>0</td>\n",
       "      <td>0</td>\n",
       "      <td>0</td>\n",
       "      <td>0</td>\n",
       "      <td>0</td>\n",
       "      <td>0</td>\n",
       "      <td>0</td>\n",
       "    </tr>\n",
       "    <tr>\n",
       "      <th>4</th>\n",
       "      <td>4</td>\n",
       "      <td>NaN</td>\n",
       "      <td>u_65787</td>\n",
       "      <td>m_690</td>\n",
       "      <td>2017-08-22 08:00</td>\n",
       "      <td>122.346947</td>\n",
       "      <td>31.834565</td>\n",
       "      <td>b_18516724|-72|false;b_21073988|-57|false;b_17...</td>\n",
       "      <td>s_149642</td>\n",
       "      <td>0</td>\n",
       "      <td>...</td>\n",
       "      <td>0</td>\n",
       "      <td>0</td>\n",
       "      <td>0</td>\n",
       "      <td>0</td>\n",
       "      <td>0</td>\n",
       "      <td>0</td>\n",
       "      <td>0</td>\n",
       "      <td>0</td>\n",
       "      <td>0</td>\n",
       "      <td>0</td>\n",
       "    </tr>\n",
       "  </tbody>\n",
       "</table>\n",
       "<p>5 rows × 748 columns</p>\n",
       "</div>"
      ],
      "text/plain": [
       "   sample_id  row_id  user_id mall_id        time_stamp   longitude  \\\n",
       "0          0     NaN   u_3604   m_690  2017-08-15 09:40  122.346922   \n",
       "1          1     NaN   u_9950   m_690  2017-08-06 13:50  122.346942   \n",
       "2          2     NaN  u_34343   m_690  2017-08-06 19:20  122.346926   \n",
       "3          3     NaN  u_49943   m_690  2017-08-25 21:40  122.346950   \n",
       "4          4     NaN  u_65787   m_690  2017-08-22 08:00  122.346947   \n",
       "\n",
       "    latitude                                         wifi_infos   shop_id  \\\n",
       "0  31.834588  b_33798074|-90|false;b_30210843|-66|false;b_50...  s_149642   \n",
       "1  31.834576  b_25145248|-55|false;b_17791227|-78|false;b_31...  s_149642   \n",
       "2  31.834624  b_22076003|-64|false;b_30210843|-74|false;b_50...  s_149642   \n",
       "3  31.834530  b_825631|-76|false;b_825628|-78|false;b_276007...  s_149642   \n",
       "4  31.834565  b_18516724|-72|false;b_21073988|-57|false;b_17...  s_149642   \n",
       "\n",
       "   time_str_0-0-10       ...         time_str_6-8-20  time_str_6-8-30  \\\n",
       "0                0       ...                       0                0   \n",
       "1                0       ...                       0                0   \n",
       "2                0       ...                       0                0   \n",
       "3                0       ...                       0                0   \n",
       "4                0       ...                       0                0   \n",
       "\n",
       "   time_str_6-8-40  time_str_6-8-50  time_str_6-9-0  time_str_6-9-10  \\\n",
       "0                0                0               0                0   \n",
       "1                0                0               0                0   \n",
       "2                0                0               0                0   \n",
       "3                0                0               0                0   \n",
       "4                0                0               0                0   \n",
       "\n",
       "   time_str_6-9-20  time_str_6-9-30  time_str_6-9-40  time_str_6-9-50  \n",
       "0                0                0                0                0  \n",
       "1                0                0                0                0  \n",
       "2                0                0                0                0  \n",
       "3                0                0                0                0  \n",
       "4                0                0                0                0  \n",
       "\n",
       "[5 rows x 748 columns]"
      ]
     },
     "execution_count": 8,
     "metadata": {},
     "output_type": "execute_result"
    }
   ],
   "source": [
    "# 扩展时间特征（可选）\n",
    "import time\n",
    "datasets_1.loc[:, 'wday'] = datasets_1.time_stamp.apply(lambda t: time.strptime(t, '%Y-%m-%d %H:%M').tm_wday)\n",
    "datasets_1.loc[:, 'hour'] = datasets_1.time_stamp.apply(lambda t: time.strptime(t, '%Y-%m-%d %H:%M').tm_hour)\n",
    "datasets_1.loc[:, 'min'] = datasets_1.time_stamp.apply(lambda t: time.strptime(t, '%Y-%m-%d %H:%M').tm_min)\n",
    "datasets_1.loc[:, 'time_str'] = map(lambda *xlist: \"-\".join([str(x) for x in xlist]),   \n",
    "                                    datasets_1.loc[:, 'wday'], \n",
    "                                    datasets_1.loc[:, 'hour'], \n",
    "                                    datasets_1.loc[:, 'min'])\n",
    "\n",
    "timestr_dicts = datasets_1.loc[:, 'time_str'].value_counts().to_dict()\n",
    "timestr_cutted_dicts = { }\n",
    "timestr_ignore_size = 0\n",
    "for k, v in timestr_dicts.iteritems():\n",
    "    if v >= timestr_ignore_size:\n",
    "        timestr_cutted_dicts[k] = k\n",
    "    else:\n",
    "        timestr_cutted_dicts[k] = -1\n",
    "datasets_1.loc[:, 'time_str']  = datasets_1.loc[:, 'time_str'].map(timestr_cutted_dicts)\n",
    "\n",
    "dd = pd.get_dummies(datasets_1.time_str)\n",
    "dd.columns = ['time_str_' + str(d) for d in dd.columns]\n",
    "\n",
    "datasets_1 = pd.concat([datasets_1, dd], axis=1, ignore_index=False)\n",
    "\n",
    "del datasets_1['wday']\n",
    "del datasets_1['hour']\n",
    "del datasets_1['min']\n",
    "del datasets_1['time_str']\n",
    "del dd\n",
    "\n",
    "print datasets_1.shape\n",
    "datasets_1.head()"
   ]
  },
  {
   "cell_type": "code",
   "execution_count": null,
   "metadata": {
    "collapsed": false
   },
   "outputs": [],
   "source": []
  },
  {
   "cell_type": "code",
   "execution_count": 11,
   "metadata": {
    "collapsed": false
   },
   "outputs": [
    {
     "name": "stdout",
     "output_type": "stream",
     "text": [
      "(38624, 18338)\n"
     ]
    },
    {
     "data": {
      "text/html": [
       "<div>\n",
       "<style>\n",
       "    .dataframe thead tr:only-child th {\n",
       "        text-align: right;\n",
       "    }\n",
       "\n",
       "    .dataframe thead th {\n",
       "        text-align: left;\n",
       "    }\n",
       "\n",
       "    .dataframe tbody tr th {\n",
       "        vertical-align: top;\n",
       "    }\n",
       "</style>\n",
       "<table border=\"1\" class=\"dataframe\">\n",
       "  <thead>\n",
       "    <tr style=\"text-align: right;\">\n",
       "      <th></th>\n",
       "      <th>sample_id</th>\n",
       "      <th>row_id</th>\n",
       "      <th>user_id</th>\n",
       "      <th>mall_id</th>\n",
       "      <th>time_stamp</th>\n",
       "      <th>longitude</th>\n",
       "      <th>latitude</th>\n",
       "      <th>wifi_infos</th>\n",
       "      <th>shop_id</th>\n",
       "      <th>time_str_0-0-10</th>\n",
       "      <th>...</th>\n",
       "      <th>b_993839</th>\n",
       "      <th>b_9947673</th>\n",
       "      <th>b_9949422</th>\n",
       "      <th>b_9952527</th>\n",
       "      <th>b_9968000</th>\n",
       "      <th>b_9989476</th>\n",
       "      <th>b_999413</th>\n",
       "      <th>b_999414</th>\n",
       "      <th>b_9996625</th>\n",
       "      <th>b_9996651</th>\n",
       "    </tr>\n",
       "  </thead>\n",
       "  <tbody>\n",
       "    <tr>\n",
       "      <th>0</th>\n",
       "      <td>0</td>\n",
       "      <td>NaN</td>\n",
       "      <td>u_3604</td>\n",
       "      <td>m_690</td>\n",
       "      <td>2017-08-15 09:40</td>\n",
       "      <td>122.346922</td>\n",
       "      <td>31.834588</td>\n",
       "      <td>b_33798074|-90|false;b_30210843|-66|false;b_50...</td>\n",
       "      <td>s_149642</td>\n",
       "      <td>0</td>\n",
       "      <td>...</td>\n",
       "      <td>0.0</td>\n",
       "      <td>0.0</td>\n",
       "      <td>0.0</td>\n",
       "      <td>0.0</td>\n",
       "      <td>0.0</td>\n",
       "      <td>0.0</td>\n",
       "      <td>0.0</td>\n",
       "      <td>0.0</td>\n",
       "      <td>0.0</td>\n",
       "      <td>0.0</td>\n",
       "    </tr>\n",
       "    <tr>\n",
       "      <th>1</th>\n",
       "      <td>1</td>\n",
       "      <td>NaN</td>\n",
       "      <td>u_9950</td>\n",
       "      <td>m_690</td>\n",
       "      <td>2017-08-06 13:50</td>\n",
       "      <td>122.346942</td>\n",
       "      <td>31.834576</td>\n",
       "      <td>b_25145248|-55|false;b_17791227|-78|false;b_31...</td>\n",
       "      <td>s_149642</td>\n",
       "      <td>0</td>\n",
       "      <td>...</td>\n",
       "      <td>0.0</td>\n",
       "      <td>0.0</td>\n",
       "      <td>0.0</td>\n",
       "      <td>0.0</td>\n",
       "      <td>0.0</td>\n",
       "      <td>0.0</td>\n",
       "      <td>0.0</td>\n",
       "      <td>0.0</td>\n",
       "      <td>0.0</td>\n",
       "      <td>0.0</td>\n",
       "    </tr>\n",
       "    <tr>\n",
       "      <th>2</th>\n",
       "      <td>2</td>\n",
       "      <td>NaN</td>\n",
       "      <td>u_34343</td>\n",
       "      <td>m_690</td>\n",
       "      <td>2017-08-06 19:20</td>\n",
       "      <td>122.346926</td>\n",
       "      <td>31.834624</td>\n",
       "      <td>b_22076003|-64|false;b_30210843|-74|false;b_50...</td>\n",
       "      <td>s_149642</td>\n",
       "      <td>0</td>\n",
       "      <td>...</td>\n",
       "      <td>0.0</td>\n",
       "      <td>0.0</td>\n",
       "      <td>0.0</td>\n",
       "      <td>0.0</td>\n",
       "      <td>0.0</td>\n",
       "      <td>0.0</td>\n",
       "      <td>0.0</td>\n",
       "      <td>0.0</td>\n",
       "      <td>0.0</td>\n",
       "      <td>0.0</td>\n",
       "    </tr>\n",
       "    <tr>\n",
       "      <th>3</th>\n",
       "      <td>3</td>\n",
       "      <td>NaN</td>\n",
       "      <td>u_49943</td>\n",
       "      <td>m_690</td>\n",
       "      <td>2017-08-25 21:40</td>\n",
       "      <td>122.346950</td>\n",
       "      <td>31.834530</td>\n",
       "      <td>b_825631|-76|false;b_825628|-78|false;b_276007...</td>\n",
       "      <td>s_149642</td>\n",
       "      <td>0</td>\n",
       "      <td>...</td>\n",
       "      <td>0.0</td>\n",
       "      <td>0.0</td>\n",
       "      <td>0.0</td>\n",
       "      <td>0.0</td>\n",
       "      <td>0.0</td>\n",
       "      <td>0.0</td>\n",
       "      <td>0.0</td>\n",
       "      <td>0.0</td>\n",
       "      <td>0.0</td>\n",
       "      <td>0.0</td>\n",
       "    </tr>\n",
       "    <tr>\n",
       "      <th>4</th>\n",
       "      <td>4</td>\n",
       "      <td>NaN</td>\n",
       "      <td>u_65787</td>\n",
       "      <td>m_690</td>\n",
       "      <td>2017-08-22 08:00</td>\n",
       "      <td>122.346947</td>\n",
       "      <td>31.834565</td>\n",
       "      <td>b_18516724|-72|false;b_21073988|-57|false;b_17...</td>\n",
       "      <td>s_149642</td>\n",
       "      <td>0</td>\n",
       "      <td>...</td>\n",
       "      <td>0.0</td>\n",
       "      <td>0.0</td>\n",
       "      <td>0.0</td>\n",
       "      <td>0.0</td>\n",
       "      <td>0.0</td>\n",
       "      <td>0.0</td>\n",
       "      <td>0.0</td>\n",
       "      <td>0.0</td>\n",
       "      <td>0.0</td>\n",
       "      <td>0.0</td>\n",
       "    </tr>\n",
       "  </tbody>\n",
       "</table>\n",
       "<p>5 rows × 18338 columns</p>\n",
       "</div>"
      ],
      "text/plain": [
       "   sample_id  row_id  user_id mall_id        time_stamp   longitude  \\\n",
       "0          0     NaN   u_3604   m_690  2017-08-15 09:40  122.346922   \n",
       "1          1     NaN   u_9950   m_690  2017-08-06 13:50  122.346942   \n",
       "2          2     NaN  u_34343   m_690  2017-08-06 19:20  122.346926   \n",
       "3          3     NaN  u_49943   m_690  2017-08-25 21:40  122.346950   \n",
       "4          4     NaN  u_65787   m_690  2017-08-22 08:00  122.346947   \n",
       "\n",
       "    latitude                                         wifi_infos   shop_id  \\\n",
       "0  31.834588  b_33798074|-90|false;b_30210843|-66|false;b_50...  s_149642   \n",
       "1  31.834576  b_25145248|-55|false;b_17791227|-78|false;b_31...  s_149642   \n",
       "2  31.834624  b_22076003|-64|false;b_30210843|-74|false;b_50...  s_149642   \n",
       "3  31.834530  b_825631|-76|false;b_825628|-78|false;b_276007...  s_149642   \n",
       "4  31.834565  b_18516724|-72|false;b_21073988|-57|false;b_17...  s_149642   \n",
       "\n",
       "   time_str_0-0-10    ...      b_993839  b_9947673  b_9949422  b_9952527  \\\n",
       "0                0    ...           0.0        0.0        0.0        0.0   \n",
       "1                0    ...           0.0        0.0        0.0        0.0   \n",
       "2                0    ...           0.0        0.0        0.0        0.0   \n",
       "3                0    ...           0.0        0.0        0.0        0.0   \n",
       "4                0    ...           0.0        0.0        0.0        0.0   \n",
       "\n",
       "   b_9968000  b_9989476  b_999413  b_999414  b_9996625  b_9996651  \n",
       "0        0.0        0.0       0.0       0.0        0.0        0.0  \n",
       "1        0.0        0.0       0.0       0.0        0.0        0.0  \n",
       "2        0.0        0.0       0.0       0.0        0.0        0.0  \n",
       "3        0.0        0.0       0.0       0.0        0.0        0.0  \n",
       "4        0.0        0.0       0.0       0.0        0.0        0.0  \n",
       "\n",
       "[5 rows x 18338 columns]"
      ]
     },
     "execution_count": 11,
     "metadata": {},
     "output_type": "execute_result"
    }
   ],
   "source": [
    "# 扩展WIFI特征（可选）\n",
    "from sklearn.preprocessing import MinMaxScaler\n",
    "sample_id_list = []\n",
    "wifi_id_list = []\n",
    "signal_power_list = []\n",
    "signal_flag_list = []\n",
    "sample_size = datasets_1.shape[0]\n",
    "for i in range(sample_size):\n",
    "    wifi_info = datasets_1.wifi_infos[i].split(';')\n",
    "    sample_id = i\n",
    "    for w in wifi_info:\n",
    "        w_values = w.split('|')\n",
    "        wifi_id_list.append(w_values[0])\n",
    "        signal_power_list.append(float(w_values[1]))\n",
    "        signal_flag_list.append(w_values[2])\n",
    "        sample_id_list.append(sample_id)\n",
    "\n",
    "wifi_feat = pd.DataFrame({'sample_id': sample_id_list,\n",
    "                         'signal_power': signal_power_list,\n",
    "                         'signal_flag': signal_flag_list,\n",
    "                         'wifi_id': wifi_id_list},\n",
    "                        columns=['sample_id', 'wifi_id', 'signal_power', 'signal_flag'])\n",
    "wifi_feat['signal_flag'] = wifi_feat.signal_flag.apply(lambda x: 1 if x == 'true' else 0)\n",
    "wifi_feat['signal_power'] = MinMaxScaler().fit_transform(wifi_feat['signal_power'].values.reshape(-1,1))\n",
    "\n",
    "wifi_flag = pd.pivot_table(wifi_feat, index='sample_id', columns='wifi_id', values='signal_flag').fillna(0)\n",
    "wifi_power = pd.pivot_table(wifi_feat, index='sample_id', columns='wifi_id', values='signal_power').fillna(0)\n",
    "del wifi_feat\n",
    "\n",
    "datasets_1 = pd.concat([datasets_1, wifi_power], axis=1, ignore_index=False)\n",
    "del wifi_power\n",
    "del wifi_flag\n",
    "\n",
    "print datasets_1.shape\n",
    "datasets_1.head()"
   ]
  },
  {
   "cell_type": "code",
   "execution_count": null,
   "metadata": {
    "collapsed": true
   },
   "outputs": [],
   "source": []
  },
  {
   "cell_type": "code",
   "execution_count": 12,
   "metadata": {
    "collapsed": false
   },
   "outputs": [
    {
     "data": {
      "text/plain": [
       "726"
      ]
     },
     "execution_count": 12,
     "metadata": {},
     "output_type": "execute_result"
    }
   ],
   "source": [
    "gc.collect()"
   ]
  },
  {
   "cell_type": "code",
   "execution_count": null,
   "metadata": {
    "collapsed": true
   },
   "outputs": [],
   "source": []
  },
  {
   "cell_type": "code",
   "execution_count": 13,
   "metadata": {
    "collapsed": false
   },
   "outputs": [],
   "source": [
    "# 切分训练集, 预测集\n",
    "from sklearn.utils import shuffle\n",
    "datasets_sample_in = shuffle(datasets_1[datasets_1.shop_id.notnull()])\n",
    "datasets_sample_out =  shuffle(datasets_1[datasets_1.shop_id.isnull()])"
   ]
  },
  {
   "cell_type": "code",
   "execution_count": null,
   "metadata": {
    "collapsed": false
   },
   "outputs": [],
   "source": []
  },
  {
   "cell_type": "code",
   "execution_count": 14,
   "metadata": {
    "collapsed": false
   },
   "outputs": [
    {
     "data": {
      "text/plain": [
       "0.93884020137982471"
      ]
     },
     "execution_count": 14,
     "metadata": {},
     "output_type": "execute_result"
    }
   ],
   "source": [
    "# 使用逻辑回归训练模型\n",
    "%matplotlib inline\n",
    "import matplotlib.pyplot as plt\n",
    "from sklearn.linear_model.logistic import LogisticRegression\n",
    "from sklearn.model_selection import train_test_split\n",
    "from pandas.core.series import Series\n",
    "\n",
    "X_train, X_test, y_train, y_test  = train_test_split(datasets_sample_in.iloc[:,9:], \n",
    "                                                     datasets_sample_in.iloc[:,8], \n",
    "                                                     test_size=0.4, \n",
    "                                                     random_state=1)\n",
    "\n",
    "lr_model = LogisticRegression(C=1.0, solver='lbfgs', multi_class='multinomial')\n",
    "lr_model.fit(X_train,y_train)\n",
    "p_train = Series(lr_model.predict(X_train))\n",
    "lr_model.score(X_train, y_train)"
   ]
  },
  {
   "cell_type": "code",
   "execution_count": null,
   "metadata": {
    "collapsed": true
   },
   "outputs": [],
   "source": []
  },
  {
   "cell_type": "code",
   "execution_count": null,
   "metadata": {
    "collapsed": true
   },
   "outputs": [],
   "source": []
  },
  {
   "cell_type": "code",
   "execution_count": null,
   "metadata": {
    "collapsed": false
   },
   "outputs": [],
   "source": [
    "0.93884020137982471\n",
    "0.93828081297781096"
   ]
  },
  {
   "cell_type": "code",
   "execution_count": null,
   "metadata": {
    "collapsed": true
   },
   "outputs": [],
   "source": [
    "0.97673489765351973"
   ]
  },
  {
   "cell_type": "code",
   "execution_count": null,
   "metadata": {
    "collapsed": true
   },
   "outputs": [],
   "source": []
  },
  {
   "cell_type": "code",
   "execution_count": null,
   "metadata": {
    "collapsed": true
   },
   "outputs": [],
   "source": [
    "0.97423864203694455\n",
    "0.94578132800798798"
   ]
  },
  {
   "cell_type": "code",
   "execution_count": null,
   "metadata": {
    "collapsed": false
   },
   "outputs": [],
   "source": [
    "0.97623564653020467\n",
    "0.93030454318522215"
   ]
  },
  {
   "cell_type": "code",
   "execution_count": null,
   "metadata": {
    "collapsed": false
   },
   "outputs": [],
   "source": [
    "0.97553669495756368\n",
    "0.92521218172740893"
   ]
  },
  {
   "cell_type": "code",
   "execution_count": null,
   "metadata": {
    "collapsed": false
   },
   "outputs": [],
   "source": []
  },
  {
   "cell_type": "code",
   "execution_count": null,
   "metadata": {
    "collapsed": false
   },
   "outputs": [],
   "source": []
  },
  {
   "cell_type": "code",
   "execution_count": null,
   "metadata": {
    "collapsed": false
   },
   "outputs": [],
   "source": []
  },
  {
   "cell_type": "code",
   "execution_count": null,
   "metadata": {
    "collapsed": false
   },
   "outputs": [],
   "source": []
  },
  {
   "cell_type": "code",
   "execution_count": null,
   "metadata": {
    "collapsed": true
   },
   "outputs": [],
   "source": []
  },
  {
   "cell_type": "code",
   "execution_count": null,
   "metadata": {
    "collapsed": false
   },
   "outputs": [],
   "source": []
  },
  {
   "cell_type": "code",
   "execution_count": null,
   "metadata": {
    "collapsed": true
   },
   "outputs": [],
   "source": []
  },
  {
   "cell_type": "code",
   "execution_count": null,
   "metadata": {
    "collapsed": true
   },
   "outputs": [],
   "source": []
  },
  {
   "cell_type": "code",
   "execution_count": null,
   "metadata": {
    "collapsed": true
   },
   "outputs": [],
   "source": []
  },
  {
   "cell_type": "code",
   "execution_count": null,
   "metadata": {
    "collapsed": false
   },
   "outputs": [],
   "source": []
  },
  {
   "cell_type": "code",
   "execution_count": null,
   "metadata": {
    "collapsed": true
   },
   "outputs": [],
   "source": []
  },
  {
   "cell_type": "code",
   "execution_count": null,
   "metadata": {
    "collapsed": true
   },
   "outputs": [],
   "source": []
  },
  {
   "cell_type": "code",
   "execution_count": null,
   "metadata": {
    "collapsed": true
   },
   "outputs": [],
   "source": []
  },
  {
   "cell_type": "code",
   "execution_count": null,
   "metadata": {
    "collapsed": true
   },
   "outputs": [],
   "source": []
  }
 ],
 "metadata": {
  "anaconda-cloud": {},
  "kernelspec": {
   "display_name": "Python 2",
   "language": "python",
   "name": "python2"
  },
  "language_info": {
   "codemirror_mode": {
    "name": "ipython",
    "version": 2
   },
   "file_extension": ".py",
   "mimetype": "text/x-python",
   "name": "python",
   "nbconvert_exporter": "python",
   "pygments_lexer": "ipython2",
   "version": "2.7.10"
  }
 },
 "nbformat": 4,
 "nbformat_minor": 1
}
